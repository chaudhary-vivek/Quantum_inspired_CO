{
 "cells": [
  {
   "cell_type": "code",
   "execution_count": 1,
   "metadata": {},
   "outputs": [],
   "source": [
    "import numpy as np"
   ]
  },
  {
   "cell_type": "code",
   "execution_count": 2,
   "metadata": {},
   "outputs": [
    {
     "name": "stdout",
     "output_type": "stream",
     "text": [
      "Final binary solution: [0 0 0 0]\n",
      "Hamiltonian value (objective function): 0\n"
     ]
    }
   ],
   "source": [
    "\n",
    "\n",
    "# QUBO problem: Example of a Max-Cut problem represented as a QUBO matrix\n",
    "Q = np.array([\n",
    "    [ 0, -1, -1,  0], \n",
    "    [-1,  0,  0, -1], \n",
    "    [-1,  0,  0, -1], \n",
    "    [ 0, -1, -1,  0]\n",
    "])\n",
    "\n",
    "# Number of variables\n",
    "N = Q.shape[0]\n",
    "\n",
    "# Parameters for simulated bifurcation\n",
    "dt = 0.1  # Time step\n",
    "T = 10    # Number of iterations\n",
    "\n",
    "def discrete_simulated_bifurcation(Q, N, dt=0.1, T=10):\n",
    "    \"\"\"\n",
    "    Discrete Simulated Bifurcation (DSB) algorithm to solve a QUBO problem.\n",
    "    \"\"\"\n",
    "    # Initialize momenta and positions (representing the bifurcation variables)\n",
    "    x = np.ones(N)  # All variables start at +1\n",
    "    p = np.random.randn(N)  # Random initial momenta\n",
    "\n",
    "    # Iterative evolution\n",
    "    for t in range(T):\n",
    "        # Compute effective force (gradients of the Hamiltonian)\n",
    "        force = np.dot(Q, x)\n",
    "        \n",
    "        # Update momenta\n",
    "        p -= dt * force  \n",
    "        \n",
    "        # Update positions using a threshold function\n",
    "        x = np.sign(p)  # Discrete bifurcation step: variables flip based on momentum\n",
    "\n",
    "    # Convert -1,1 to binary {0,1} representation\n",
    "    solution = (x > 0).astype(int)\n",
    "    return solution\n",
    "\n",
    "# Run the algorithm\n",
    "solution = discrete_simulated_bifurcation(Q, N)\n",
    "\n",
    "# Print results\n",
    "print(\"Final binary solution:\", solution)\n",
    "\n",
    "# Compute and print Hamiltonian value\n",
    "H_value = solution @ Q @ solution.T\n",
    "print(\"Hamiltonian value (objective function):\", H_value)\n"
   ]
  }
 ],
 "metadata": {
  "kernelspec": {
   "display_name": "Python 3",
   "language": "python",
   "name": "python3"
  },
  "language_info": {
   "codemirror_mode": {
    "name": "ipython",
    "version": 3
   },
   "file_extension": ".py",
   "mimetype": "text/x-python",
   "name": "python",
   "nbconvert_exporter": "python",
   "pygments_lexer": "ipython3",
   "version": "3.12.0"
  }
 },
 "nbformat": 4,
 "nbformat_minor": 2
}
