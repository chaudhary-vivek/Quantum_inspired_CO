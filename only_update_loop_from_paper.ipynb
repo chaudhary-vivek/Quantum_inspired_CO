{
 "cells": [
  {
   "cell_type": "code",
   "execution_count": 53,
   "metadata": {},
   "outputs": [],
   "source": [
    "\n",
    "import numpy as np\n",
    "from scipy.sparse import csr_matrix\n"
   ]
  },
  {
   "cell_type": "code",
   "execution_count": 54,
   "metadata": {},
   "outputs": [],
   "source": [
    "J = np.array([\n",
    "        [0, 1, 1, 1],\n",
    "        [1, 0, 0, 1],\n",
    "        [1, 0, 0, 1],\n",
    "        [1, 1, 1, 0]\n",
    "    ])\n",
    "h=None\n",
    "x=None\n",
    "n_iter=10000\n",
    "batch_size=J.shape[1]#1\n",
    "dt=1\n",
    "N =J.shape[0]\n",
    "c = J.shape[1]\n",
    "J_sparse = csr_matrix(J)\n",
    "xi = 0.5 * np.sqrt(N - 1) / np.sqrt(J_sparse.power(2).sum())\n",
    "delta =1\n",
    "p = np.linspace(0, 1, n_iter)\n",
    "\n",
    "x = 0.02 * (np.random.rand(N) - 0.5)\n",
    "y = 0.02 * (np.random.rand(N) - 0.5)"
   ]
  },
  {
   "cell_type": "code",
   "execution_count": 55,
   "metadata": {},
   "outputs": [
    {
     "name": "stdout",
     "output_type": "stream",
     "text": [
      "[1. 1. 1. 1.]\n",
      "-5.0\n"
     ]
    }
   ],
   "source": [
    "\n",
    "for i in range(n_iter):\n",
    "    if h is None:\n",
    "        # -(delta - p[i]) * x ----pumping term---> starts from -1* spins and increases to 0* spins\n",
    "        # xi * J.dot(np.sign(x)) ----interaction term--->  calculates how much each spin is affcted by all others\n",
    "        y += (-(delta - p[i]) * x + xi * J.dot(np.sign(x))) * dt\n",
    "    else:\n",
    "        y += (\n",
    "            -(delta - p[i]) * x + xi * (J.dot(np.sign(x)) + h)\n",
    "        ) * dt\n",
    "\n",
    "    x += dt * y * delta\n",
    "\n",
    "    cond = np.abs(x) > 1\n",
    "    # if x exceeds 1 or -1 , we cap it to 1 or -1\n",
    "    x = np.where(cond, np.sign(x), x)\n",
    "    # if y exceeds 1 or -1, we reset it to 0\n",
    "    y = np.where(cond, np.zeros_like(y), y)\n",
    "\n",
    "print(x)\n",
    "\n",
    "energy = -0.5 * np.sum(J.dot(np.sign(x)) * np.sign(x), axis=0)\n",
    "print(energy)"
   ]
  },
  {
   "cell_type": "code",
   "execution_count": 56,
   "metadata": {},
   "outputs": [
    {
     "data": {
      "text/plain": [
       "-5.0"
      ]
     },
     "execution_count": 56,
     "metadata": {},
     "output_type": "execute_result"
    }
   ],
   "source": [
    "-0.5 * np.sum(J.dot(np.sign(x)) * np.sign(x), axis=0)"
   ]
  }
 ],
 "metadata": {
  "kernelspec": {
   "display_name": "Python 3",
   "language": "python",
   "name": "python3"
  },
  "language_info": {
   "codemirror_mode": {
    "name": "ipython",
    "version": 3
   },
   "file_extension": ".py",
   "mimetype": "text/x-python",
   "name": "python",
   "nbconvert_exporter": "python",
   "pygments_lexer": "ipython3",
   "version": "3.12.0"
  }
 },
 "nbformat": 4,
 "nbformat_minor": 2
}
